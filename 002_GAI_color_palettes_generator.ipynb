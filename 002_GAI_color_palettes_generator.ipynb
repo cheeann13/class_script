{
  "nbformat": 4,
  "nbformat_minor": 0,
  "metadata": {
    "colab": {
      "provenance": [],
      "authorship_tag": "ABX9TyNpYOTUwoDQC2tz8LDEqt+U",
      "include_colab_link": true
    },
    "kernelspec": {
      "name": "python3",
      "display_name": "Python 3"
    },
    "language_info": {
      "name": "python"
    }
  },
  "cells": [
    {
      "cell_type": "markdown",
      "metadata": {
        "id": "view-in-github",
        "colab_type": "text"
      },
      "source": [
        "<a href=\"https://colab.research.google.com/github/cheeann13/class_script/blob/main/002_GAI_color_palettes_generator.ipynb\" target=\"_parent\"><img src=\"https://colab.research.google.com/assets/colab-badge.svg\" alt=\"Open In Colab\"/></a>"
      ]
    },
    {
      "cell_type": "markdown",
      "source": [
        "# AI Color Palettes Generator\n",
        "- gpt-3.5-turbo\n",
        "- https://coolors.co\n",
        "- input: desciption of desired theme, usage or other context (str)\n",
        "- output: hexcodes of the palettes\n",
        "- description: An ai app that generate color palettes, based on user's description"
      ],
      "metadata": {
        "id": "BgRpLfI6FVa_"
      }
    },
    {
      "cell_type": "code",
      "execution_count": null,
      "metadata": {
        "id": "UFfrUSrYE66J"
      },
      "outputs": [],
      "source": [
        "!pip install openai"
      ]
    },
    {
      "cell_type": "markdown",
      "source": [],
      "metadata": {
        "id": "rsTm6mfOFS7M"
      }
    },
    {
      "cell_type": "code",
      "source": [
        "import os\n",
        "import json\n",
        "from openai import OpenAI\n",
        "from google.colab import userdata\n",
        "\n",
        "from IPython.display import display, HTML"
      ],
      "metadata": {
        "id": "SfC2mJ9sFRp1"
      },
      "execution_count": null,
      "outputs": []
    },
    {
      "cell_type": "code",
      "source": [
        "client = OpenAI(\n",
        "    api_key= userdata.get('OPENAI_API_KEY')\n",
        ")"
      ],
      "metadata": {
        "id": "GifiWWvoGczc"
      },
      "execution_count": null,
      "outputs": []
    },
    {
      "cell_type": "code",
      "source": [],
      "metadata": {
        "id": "tD-7YblXHMiE"
      },
      "execution_count": null,
      "outputs": []
    },
    {
      "cell_type": "markdown",
      "source": [
        "### Display Color Block"
      ],
      "metadata": {
        "id": "FcBe4WZYHFUj"
      }
    },
    {
      "cell_type": "code",
      "source": [
        "# a function to display color palettes\n",
        "\n",
        "colors = [\"#067BC2\", \"#84BCDA\", \"#ECC30B\", \"#F37748\", \"#D56062\"]\n",
        "\n",
        "def display_color_block(colors):\n",
        "  color_blocks = \" \".join(f\"<span style='color: {color}'>{chr(9608) * 5}</span>\" for color in colors)\n",
        "  display(HTML(color_blocks))\n",
        "\n"
      ],
      "metadata": {
        "id": "W9nx2eJQGkzN"
      },
      "execution_count": null,
      "outputs": []
    },
    {
      "cell_type": "code",
      "source": [
        "display_color_block(colors)"
      ],
      "metadata": {
        "colab": {
          "base_uri": "https://localhost:8080/",
          "height": 34
        },
        "id": "OkYb2OZhIyuv",
        "outputId": "3da08ed9-fe91-4253-8ade-208be2463d6d"
      },
      "execution_count": null,
      "outputs": [
        {
          "output_type": "display_data",
          "data": {
            "text/plain": [
              "<IPython.core.display.HTML object>"
            ],
            "text/html": [
              "<span style='color: #067BC2'>█████</span> <span style='color: #84BCDA'>█████</span> <span style='color: #ECC30B'>█████</span> <span style='color: #F37748'>█████</span> <span style='color: #D56062'>█████</span>"
            ]
          },
          "metadata": {}
        }
      ]
    },
    {
      "cell_type": "markdown",
      "source": [
        "## AI Generator with gpt-3.5-turbo\n",
        "- output format: [\"#067BC2\", \"#84BCDA\", \"#ECC30B\", \"#F37748\", \"#D56062\"] #hexcodes in a python list\n",
        "- multi shots prompting, negative instructions"
      ],
      "metadata": {
        "id": "78XEnFIYHGEU"
      }
    },
    {
      "cell_type": "code",
      "source": [
        "def ai_color(msg):\n",
        "  response = client.chat.completions.create(\n",
        "    model=\"gpt-3.5-turbo\",\n",
        "    messages=[\n",
        "        {\"role\": \"system\", \"content\": \"\"\"\n",
        "        You are a color palettes generator that suggest aesthethics color palettes based on user's description.\n",
        "        Output the color in a list of hexcode.\n",
        "        Do not add any description about the colors.\"\"\"}, #system instruction\n",
        "\n",
        "        {\"role\": \"user\", \"content\": \"website for island holidays featuring sunset\"}, #example_input\n",
        "        {\"role\": \"assistant\", \"content\": '[\"#067BC2\", \"#84BCDA\", \"#ECC30B\", \"#F37748\", \"#D56062\"]'}, #example_output\n",
        "        {\"role\": \"user\", \"content\": f'{msg}'},\n",
        "        #user input\n",
        "      ],\n",
        "    temperature=1.3,\n",
        "    max_tokens=200,\n",
        "  )\n",
        "\n",
        "  print(response.choices[0].message.content)\n",
        "  color = json.loads(response.choices[0].message.content)\n",
        "  display_color_block(color)"
      ],
      "metadata": {
        "id": "b75vhZGdJDNn"
      },
      "execution_count": null,
      "outputs": []
    },
    {
      "cell_type": "code",
      "source": [
        "ai_color(\"rainbow color\")"
      ],
      "metadata": {
        "colab": {
          "base_uri": "https://localhost:8080/",
          "height": 52
        },
        "id": "tKb_0801KbI5",
        "outputId": "6d9f038b-c855-4cfa-e346-217bb32538c8"
      },
      "execution_count": null,
      "outputs": [
        {
          "output_type": "stream",
          "name": "stdout",
          "text": [
            "[\"#FF0000\", \"#FF7F00\", \"#FFFF00\", \"#00FF00\", \"#0000FF\", \"#4B0082\", \"#9400D3\"]\n"
          ]
        },
        {
          "output_type": "display_data",
          "data": {
            "text/plain": [
              "<IPython.core.display.HTML object>"
            ],
            "text/html": [
              "<span style='color: #FF0000'>█████</span> <span style='color: #FF7F00'>█████</span> <span style='color: #FFFF00'>█████</span> <span style='color: #00FF00'>█████</span> <span style='color: #0000FF'>█████</span> <span style='color: #4B0082'>█████</span> <span style='color: #9400D3'>█████</span>"
            ]
          },
          "metadata": {}
        }
      ]
    },
    {
      "cell_type": "code",
      "source": [
        "ai_color(\"neon color high contrast for ppt about sneakers\")"
      ],
      "metadata": {
        "colab": {
          "base_uri": "https://localhost:8080/",
          "height": 52
        },
        "id": "y-2P_YBlNuEi",
        "outputId": "fcd40ee1-5290-4ea6-f88e-d6a89e14eb07"
      },
      "execution_count": null,
      "outputs": [
        {
          "output_type": "stream",
          "name": "stdout",
          "text": [
            "[\"#FF5252\", \"#FFD740\", \"#29B6F6\", \"#69F0AE\", \"#AA00FF\"]\n"
          ]
        },
        {
          "output_type": "display_data",
          "data": {
            "text/plain": [
              "<IPython.core.display.HTML object>"
            ],
            "text/html": [
              "<span style='color: #FF5252'>█████</span> <span style='color: #FFD740'>█████</span> <span style='color: #29B6F6'>█████</span> <span style='color: #69F0AE'>█████</span> <span style='color: #AA00FF'>█████</span>"
            ]
          },
          "metadata": {}
        }
      ]
    },
    {
      "cell_type": "code",
      "source": [
        "ai_color('多巴胺色系')"
      ],
      "metadata": {
        "colab": {
          "base_uri": "https://localhost:8080/",
          "height": 52
        },
        "id": "WFGHh2OHN7Aq",
        "outputId": "8c2bfab7-e4ea-4a1d-ae7a-35209d314596"
      },
      "execution_count": null,
      "outputs": [
        {
          "output_type": "stream",
          "name": "stdout",
          "text": [
            "[\"#F20505\", \"#FF0863\", \"#FF79AB\", \"#FFBCD9\", \"#FF5800\"]\n"
          ]
        },
        {
          "output_type": "display_data",
          "data": {
            "text/plain": [
              "<IPython.core.display.HTML object>"
            ],
            "text/html": [
              "<span style='color: #F20505'>█████</span> <span style='color: #FF0863'>█████</span> <span style='color: #FF79AB'>█████</span> <span style='color: #FFBCD9'>█████</span> <span style='color: #FF5800'>█████</span>"
            ]
          },
          "metadata": {}
        }
      ]
    },
    {
      "cell_type": "code",
      "source": [
        "ai_color('莫兰迪色系')\n"
      ],
      "metadata": {
        "colab": {
          "base_uri": "https://localhost:8080/",
          "height": 52
        },
        "id": "fHVhx0EyOEw9",
        "outputId": "5aaea76a-f8fc-4a13-de31-12dfcd42b8cc"
      },
      "execution_count": null,
      "outputs": [
        {
          "output_type": "stream",
          "name": "stdout",
          "text": [
            "[\"#4C5870\", \"#8491A3\", \"#B0A6B7\", \"#D9D0D2\", \"#F1EBEB\"]\n"
          ]
        },
        {
          "output_type": "display_data",
          "data": {
            "text/plain": [
              "<IPython.core.display.HTML object>"
            ],
            "text/html": [
              "<span style='color: #4C5870'>█████</span> <span style='color: #8491A3'>█████</span> <span style='color: #B0A6B7'>█████</span> <span style='color: #D9D0D2'>█████</span> <span style='color: #F1EBEB'>█████</span>"
            ]
          },
          "metadata": {}
        }
      ]
    },
    {
      "cell_type": "code",
      "source": [
        "ai_color('generate 50 shades of grey')"
      ],
      "metadata": {
        "colab": {
          "base_uri": "https://localhost:8080/",
          "height": 825
        },
        "id": "qy7sopmxOWTa",
        "outputId": "a177de31-14a1-497b-8ed7-48f1eb71c2b4"
      },
      "execution_count": null,
      "outputs": [
        {
          "output_type": "stream",
          "name": "stdout",
          "text": [
            "[\n",
            "  \"#F0F0F0\",\n",
            "  \"#E6E6E6\",\n",
            "  \"#DBDBDB\",\n",
            "  \"#D1D1D1\",\n",
            "  \"#C6C6C6\",\n",
            "  \"#BCBCBC\",\n",
            "  \"#B1B1B1\",\n",
            "  \"#A7A7A7\",\n",
            "  \"#9C9C9C\",\n",
            "  \"#929292\",\n",
            "  \"#878787\",\n",
            "  \"#7D7D7D\"\n",
            "  \"#727272\",\n",
            "  \"#686868\",\n",
            "  \"#5D5D5D\",\n",
            "  \"#535353\",\n",
            "  \"#484848\",\n",
            "  \"#3E3E3E\",\n",
            "  \"#333333\",\n",
            "  \"#292929\",\n",
            "  \"#1E1E1E\",\n",
            "  \"#141414\",\n",
            "  \"#090909\",\n",
            "  \"#000000\",\n",
            "  \"#050505\",\n",
            "  \"#0A0A0A\",\n",
            "  \"#0F0F0F\",\n",
            "  \"#141414\",\n",
            "  \"#191919\",\n",
            "\n"
          ]
        },
        {
          "output_type": "error",
          "ename": "JSONDecodeError",
          "evalue": "Expecting ',' delimiter: line 14 column 3 (char 159)",
          "traceback": [
            "\u001b[0;31m---------------------------------------------------------------------------\u001b[0m",
            "\u001b[0;31mJSONDecodeError\u001b[0m                           Traceback (most recent call last)",
            "\u001b[0;32m<ipython-input-22-22dddebd9f4d>\u001b[0m in \u001b[0;36m<cell line: 1>\u001b[0;34m()\u001b[0m\n\u001b[0;32m----> 1\u001b[0;31m \u001b[0mai_color\u001b[0m\u001b[0;34m(\u001b[0m\u001b[0;34m'geenrate 50 shades of grey'\u001b[0m\u001b[0;34m)\u001b[0m\u001b[0;34m\u001b[0m\u001b[0;34m\u001b[0m\u001b[0m\n\u001b[0m",
            "\u001b[0;32m<ipython-input-19-c281b0a07ad7>\u001b[0m in \u001b[0;36mai_color\u001b[0;34m(msg)\u001b[0m\n\u001b[1;32m     18\u001b[0m \u001b[0;34m\u001b[0m\u001b[0m\n\u001b[1;32m     19\u001b[0m   \u001b[0mprint\u001b[0m\u001b[0;34m(\u001b[0m\u001b[0mresponse\u001b[0m\u001b[0;34m.\u001b[0m\u001b[0mchoices\u001b[0m\u001b[0;34m[\u001b[0m\u001b[0;36m0\u001b[0m\u001b[0;34m]\u001b[0m\u001b[0;34m.\u001b[0m\u001b[0mmessage\u001b[0m\u001b[0;34m.\u001b[0m\u001b[0mcontent\u001b[0m\u001b[0;34m)\u001b[0m\u001b[0;34m\u001b[0m\u001b[0;34m\u001b[0m\u001b[0m\n\u001b[0;32m---> 20\u001b[0;31m   \u001b[0mcolor\u001b[0m \u001b[0;34m=\u001b[0m \u001b[0mjson\u001b[0m\u001b[0;34m.\u001b[0m\u001b[0mloads\u001b[0m\u001b[0;34m(\u001b[0m\u001b[0mresponse\u001b[0m\u001b[0;34m.\u001b[0m\u001b[0mchoices\u001b[0m\u001b[0;34m[\u001b[0m\u001b[0;36m0\u001b[0m\u001b[0;34m]\u001b[0m\u001b[0;34m.\u001b[0m\u001b[0mmessage\u001b[0m\u001b[0;34m.\u001b[0m\u001b[0mcontent\u001b[0m\u001b[0;34m)\u001b[0m\u001b[0;34m\u001b[0m\u001b[0;34m\u001b[0m\u001b[0m\n\u001b[0m\u001b[1;32m     21\u001b[0m   \u001b[0mdisplay_color_block\u001b[0m\u001b[0;34m(\u001b[0m\u001b[0mcolor\u001b[0m\u001b[0;34m)\u001b[0m\u001b[0;34m\u001b[0m\u001b[0;34m\u001b[0m\u001b[0m\n",
            "\u001b[0;32m/usr/lib/python3.10/json/__init__.py\u001b[0m in \u001b[0;36mloads\u001b[0;34m(s, cls, object_hook, parse_float, parse_int, parse_constant, object_pairs_hook, **kw)\u001b[0m\n\u001b[1;32m    344\u001b[0m             \u001b[0mparse_int\u001b[0m \u001b[0;32mis\u001b[0m \u001b[0;32mNone\u001b[0m \u001b[0;32mand\u001b[0m \u001b[0mparse_float\u001b[0m \u001b[0;32mis\u001b[0m \u001b[0;32mNone\u001b[0m \u001b[0;32mand\u001b[0m\u001b[0;34m\u001b[0m\u001b[0;34m\u001b[0m\u001b[0m\n\u001b[1;32m    345\u001b[0m             parse_constant is None and object_pairs_hook is None and not kw):\n\u001b[0;32m--> 346\u001b[0;31m         \u001b[0;32mreturn\u001b[0m \u001b[0m_default_decoder\u001b[0m\u001b[0;34m.\u001b[0m\u001b[0mdecode\u001b[0m\u001b[0;34m(\u001b[0m\u001b[0ms\u001b[0m\u001b[0;34m)\u001b[0m\u001b[0;34m\u001b[0m\u001b[0;34m\u001b[0m\u001b[0m\n\u001b[0m\u001b[1;32m    347\u001b[0m     \u001b[0;32mif\u001b[0m \u001b[0mcls\u001b[0m \u001b[0;32mis\u001b[0m \u001b[0;32mNone\u001b[0m\u001b[0;34m:\u001b[0m\u001b[0;34m\u001b[0m\u001b[0;34m\u001b[0m\u001b[0m\n\u001b[1;32m    348\u001b[0m         \u001b[0mcls\u001b[0m \u001b[0;34m=\u001b[0m \u001b[0mJSONDecoder\u001b[0m\u001b[0;34m\u001b[0m\u001b[0;34m\u001b[0m\u001b[0m\n",
            "\u001b[0;32m/usr/lib/python3.10/json/decoder.py\u001b[0m in \u001b[0;36mdecode\u001b[0;34m(self, s, _w)\u001b[0m\n\u001b[1;32m    335\u001b[0m \u001b[0;34m\u001b[0m\u001b[0m\n\u001b[1;32m    336\u001b[0m         \"\"\"\n\u001b[0;32m--> 337\u001b[0;31m         \u001b[0mobj\u001b[0m\u001b[0;34m,\u001b[0m \u001b[0mend\u001b[0m \u001b[0;34m=\u001b[0m \u001b[0mself\u001b[0m\u001b[0;34m.\u001b[0m\u001b[0mraw_decode\u001b[0m\u001b[0;34m(\u001b[0m\u001b[0ms\u001b[0m\u001b[0;34m,\u001b[0m \u001b[0midx\u001b[0m\u001b[0;34m=\u001b[0m\u001b[0m_w\u001b[0m\u001b[0;34m(\u001b[0m\u001b[0ms\u001b[0m\u001b[0;34m,\u001b[0m \u001b[0;36m0\u001b[0m\u001b[0;34m)\u001b[0m\u001b[0;34m.\u001b[0m\u001b[0mend\u001b[0m\u001b[0;34m(\u001b[0m\u001b[0;34m)\u001b[0m\u001b[0;34m)\u001b[0m\u001b[0;34m\u001b[0m\u001b[0;34m\u001b[0m\u001b[0m\n\u001b[0m\u001b[1;32m    338\u001b[0m         \u001b[0mend\u001b[0m \u001b[0;34m=\u001b[0m \u001b[0m_w\u001b[0m\u001b[0;34m(\u001b[0m\u001b[0ms\u001b[0m\u001b[0;34m,\u001b[0m \u001b[0mend\u001b[0m\u001b[0;34m)\u001b[0m\u001b[0;34m.\u001b[0m\u001b[0mend\u001b[0m\u001b[0;34m(\u001b[0m\u001b[0;34m)\u001b[0m\u001b[0;34m\u001b[0m\u001b[0;34m\u001b[0m\u001b[0m\n\u001b[1;32m    339\u001b[0m         \u001b[0;32mif\u001b[0m \u001b[0mend\u001b[0m \u001b[0;34m!=\u001b[0m \u001b[0mlen\u001b[0m\u001b[0;34m(\u001b[0m\u001b[0ms\u001b[0m\u001b[0;34m)\u001b[0m\u001b[0;34m:\u001b[0m\u001b[0;34m\u001b[0m\u001b[0;34m\u001b[0m\u001b[0m\n",
            "\u001b[0;32m/usr/lib/python3.10/json/decoder.py\u001b[0m in \u001b[0;36mraw_decode\u001b[0;34m(self, s, idx)\u001b[0m\n\u001b[1;32m    351\u001b[0m         \"\"\"\n\u001b[1;32m    352\u001b[0m         \u001b[0;32mtry\u001b[0m\u001b[0;34m:\u001b[0m\u001b[0;34m\u001b[0m\u001b[0;34m\u001b[0m\u001b[0m\n\u001b[0;32m--> 353\u001b[0;31m             \u001b[0mobj\u001b[0m\u001b[0;34m,\u001b[0m \u001b[0mend\u001b[0m \u001b[0;34m=\u001b[0m \u001b[0mself\u001b[0m\u001b[0;34m.\u001b[0m\u001b[0mscan_once\u001b[0m\u001b[0;34m(\u001b[0m\u001b[0ms\u001b[0m\u001b[0;34m,\u001b[0m \u001b[0midx\u001b[0m\u001b[0;34m)\u001b[0m\u001b[0;34m\u001b[0m\u001b[0;34m\u001b[0m\u001b[0m\n\u001b[0m\u001b[1;32m    354\u001b[0m         \u001b[0;32mexcept\u001b[0m \u001b[0mStopIteration\u001b[0m \u001b[0;32mas\u001b[0m \u001b[0merr\u001b[0m\u001b[0;34m:\u001b[0m\u001b[0;34m\u001b[0m\u001b[0;34m\u001b[0m\u001b[0m\n\u001b[1;32m    355\u001b[0m             \u001b[0;32mraise\u001b[0m \u001b[0mJSONDecodeError\u001b[0m\u001b[0;34m(\u001b[0m\u001b[0;34m\"Expecting value\"\u001b[0m\u001b[0;34m,\u001b[0m \u001b[0ms\u001b[0m\u001b[0;34m,\u001b[0m \u001b[0merr\u001b[0m\u001b[0;34m.\u001b[0m\u001b[0mvalue\u001b[0m\u001b[0;34m)\u001b[0m \u001b[0;32mfrom\u001b[0m \u001b[0;32mNone\u001b[0m\u001b[0;34m\u001b[0m\u001b[0;34m\u001b[0m\u001b[0m\n",
            "\u001b[0;31mJSONDecodeError\u001b[0m: Expecting ',' delimiter: line 14 column 3 (char 159)"
          ]
        }
      ]
    },
    {
      "cell_type": "markdown",
      "source": [
        "- now try prompt that would break your function, and refine to make your function more robust"
      ],
      "metadata": {
        "id": "0GCrqVGLQmMN"
      }
    },
    {
      "cell_type": "code",
      "source": [
        "ai_color('7')"
      ],
      "metadata": {
        "colab": {
          "base_uri": "https://localhost:8080/",
          "height": 52
        },
        "id": "N3CWmVMgPb6T",
        "outputId": "9c90acfb-7c85-494c-b77b-5f35e41a6b44"
      },
      "execution_count": null,
      "outputs": [
        {
          "output_type": "stream",
          "name": "stdout",
          "text": [
            "[\"#FFCD38\", \"#AA5199\", \"#04A777\", \"#FFAB5D\", \"#E66C36\"]\n"
          ]
        },
        {
          "output_type": "display_data",
          "data": {
            "text/plain": [
              "<IPython.core.display.HTML object>"
            ],
            "text/html": [
              "<span style='color: #FFCD38'>█████</span> <span style='color: #AA5199'>█████</span> <span style='color: #04A777'>█████</span> <span style='color: #FFAB5D'>█████</span> <span style='color: #E66C36'>█████</span>"
            ]
          },
          "metadata": {}
        }
      ]
    },
    {
      "cell_type": "code",
      "source": [],
      "metadata": {
        "id": "J4Pm4laDPrD9"
      },
      "execution_count": null,
      "outputs": []
    }
  ]
}