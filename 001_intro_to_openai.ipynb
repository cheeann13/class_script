{
  "nbformat": 4,
  "nbformat_minor": 0,
  "metadata": {
    "colab": {
      "provenance": [],
      "toc_visible": true,
      "authorship_tag": "ABX9TyOvlBfvxIGMw6elhNxXoFIh",
      "include_colab_link": true
    },
    "kernelspec": {
      "name": "python3",
      "display_name": "Python 3"
    },
    "language_info": {
      "name": "python"
    }
  },
  "cells": [
    {
      "cell_type": "markdown",
      "metadata": {
        "id": "view-in-github",
        "colab_type": "text"
      },
      "source": [
        "<a href=\"https://colab.research.google.com/github/cheeann13/class_script/blob/main/001_intro_to_openai.ipynb\" target=\"_parent\"><img src=\"https://colab.research.google.com/assets/colab-badge.svg\" alt=\"Open In Colab\"/></a>"
      ]
    },
    {
      "cell_type": "markdown",
      "source": [
        "# 001 Intro to Open AI API\n",
        "- Chat Completion Endpoints\n",
        "- gpt-3.5-turbo, gpt-4o-mini"
      ],
      "metadata": {
        "id": "8zOr3tVzyoIV"
      }
    },
    {
      "cell_type": "code",
      "execution_count": null,
      "metadata": {
        "id": "hrFOJUdCxKlc"
      },
      "outputs": [],
      "source": [
        "# install openai library\n",
        "!pip install openai"
      ]
    },
    {
      "cell_type": "markdown",
      "source": [
        "# 1.0 First Function Calling"
      ],
      "metadata": {
        "id": "tmgebYvgzOiA"
      }
    },
    {
      "cell_type": "code",
      "source": [
        "from openai import OpenAI\n",
        "from google.colab import userdata\n",
        "\n",
        "\n",
        "client = OpenAI(\n",
        "    api_key =  userdata.get('OPENAI_API_KEY')\n",
        ")\n",
        "\n",
        "\n",
        "response = client.chat.completions.create(\n",
        "  model=\"gpt-3.5-turbo\",\n",
        "  messages=[\n",
        "      {\"role\": \"system\", \"content\": \"You are a helpful assistant.\"},\n",
        "      {\"role\": \"user\", \"content\": \"List countries with top 5 GDP\"} #user input\n",
        "    ]\n",
        ")"
      ],
      "metadata": {
        "id": "6KVJw6MtyuF-"
      },
      "execution_count": 2,
      "outputs": []
    },
    {
      "cell_type": "code",
      "source": [
        "print(response.choices[0].message.content)"
      ],
      "metadata": {
        "colab": {
          "base_uri": "https://localhost:8080/"
        },
        "id": "M_VJ4-hb0O7r",
        "outputId": "31f27bab-60cc-4702-c761-0206a06dea77"
      },
      "execution_count": 3,
      "outputs": [
        {
          "output_type": "stream",
          "name": "stdout",
          "text": [
            "As of the most recent data, the countries with the top 5 GDP (Gross Domestic Product) in the world are:\n",
            "\n",
            "1. United States\n",
            "2. China\n",
            "3. Japan\n",
            "4. Germany\n",
            "5. India\n",
            "\n",
            "Please note that these rankings might change over time as economies grow and shift.\n"
          ]
        }
      ]
    },
    {
      "cell_type": "markdown",
      "source": [
        "# 2.0 Parameters"
      ],
      "metadata": {
        "id": "MAemZ3Dy5dY7"
      }
    },
    {
      "cell_type": "markdown",
      "source": [
        "## 2.1 Tokens"
      ],
      "metadata": {
        "id": "xwAIvmTb5hnX"
      }
    },
    {
      "cell_type": "code",
      "source": [
        "response = client.chat.completions.create(\n",
        "  model=\"gpt-3.5-turbo\",\n",
        "  messages=[\n",
        "      {\"role\": \"system\", \"content\": \"You are a helpful assistant.\"}, #system instruction\n",
        "      {\"role\": \"user\", \"content\": \"tell me a story about cat eat fried rice\"} #user input\n",
        "    ],\n",
        "  max_tokens = 100 #max tokens\n",
        ")\n",
        "\n",
        "print(response.choices[0].message.content)"
      ],
      "metadata": {
        "colab": {
          "base_uri": "https://localhost:8080/"
        },
        "id": "FGCPuaXo5g7c",
        "outputId": "7a6f8b7d-76f1-42b6-9f3b-7a7283386ba0"
      },
      "execution_count": 4,
      "outputs": [
        {
          "output_type": "stream",
          "name": "stdout",
          "text": [
            "Once upon a time, there was a mischievous cat named Whiskers who lived in a small village. Whiskers was known throughout the village for his love of food, especially fried rice. Every time someone in the village cooked fried rice, Whiskers would appear out of nowhere, hoping to get a taste of the delicious dish.\n",
            "\n",
            "One day, the villagers decided to play a trick on Whiskers. They cooked a large pot of fragrant and flavorful fried rice and left it\n"
          ]
        }
      ]
    },
    {
      "cell_type": "code",
      "source": [
        "response"
      ],
      "metadata": {
        "colab": {
          "base_uri": "https://localhost:8080/"
        },
        "id": "02G4PYPd6D9K",
        "outputId": "029aa5c3-0385-4cc1-8743-dc4fe0d9ca5c"
      },
      "execution_count": 5,
      "outputs": [
        {
          "output_type": "execute_result",
          "data": {
            "text/plain": [
              "ChatCompletion(id='chatcmpl-AIWxBAkSzh3TJW0diKAg8H5HVPI4m', choices=[Choice(finish_reason='length', index=0, logprobs=None, message=ChatCompletionMessage(content='Once upon a time, there was a mischievous cat named Whiskers who lived in a small village. Whiskers was known throughout the village for his love of food, especially fried rice. Every time someone in the village cooked fried rice, Whiskers would appear out of nowhere, hoping to get a taste of the delicious dish.\\n\\nOne day, the villagers decided to play a trick on Whiskers. They cooked a large pot of fragrant and flavorful fried rice and left it', refusal=None, role='assistant', function_call=None, tool_calls=None))], created=1728979941, model='gpt-3.5-turbo-0125', object='chat.completion', service_tier=None, system_fingerprint=None, usage=CompletionUsage(completion_tokens=100, prompt_tokens=26, total_tokens=126, completion_tokens_details=CompletionTokensDetails(audio_tokens=None, reasoning_tokens=0), prompt_tokens_details=PromptTokensDetails(audio_tokens=None, cached_tokens=0)))"
            ]
          },
          "metadata": {},
          "execution_count": 5
        }
      ]
    },
    {
      "cell_type": "markdown",
      "source": [
        "## 2.2 Temperature"
      ],
      "metadata": {
        "id": "0wgot_V76pRG"
      }
    },
    {
      "cell_type": "code",
      "source": [
        "response = client.chat.completions.create(\n",
        "  model=\"gpt-3.5-turbo\",\n",
        "  messages=[\n",
        "      {\"role\": \"system\", \"content\": \"You are a helpful assistant.\"}, #system instruction\n",
        "      {\"role\": \"user\", \"content\": \"tell me a joke\"} #user input\n",
        "    ],\n",
        "  temperature = 0.7, #temperature\n",
        "  max_tokens = 100 #max tokens\n",
        ")\n",
        "\n",
        "print(response.choices[0].message.content)"
      ],
      "metadata": {
        "colab": {
          "base_uri": "https://localhost:8080/"
        },
        "id": "MHBTnzsj5snQ",
        "outputId": "2d63f117-9f1c-4d12-ed55-6a4ca4e37378"
      },
      "execution_count": 6,
      "outputs": [
        {
          "output_type": "stream",
          "name": "stdout",
          "text": [
            "Sure, here's a joke for you: Why couldn't the bicycle stand up by itself? Because it was two tired!\n"
          ]
        }
      ]
    },
    {
      "cell_type": "markdown",
      "source": [
        "# 3.0 Roles: System, User, Assistant\n",
        "- Zero Shot Prompting\n",
        "- Single Shot\n",
        "- Multiple Shot"
      ],
      "metadata": {
        "id": "jEVZCJpL7TLc"
      }
    },
    {
      "cell_type": "code",
      "source": [
        "response = client.chat.completions.create(\n",
        "  model=\"gpt-3.5-turbo\",\n",
        "  messages=[\n",
        "      {\"role\": \"system\", \"content\": \"Translate the user's text into mandarin and enhance it with relevant emojis for better expression and engagement.\"}, #system instruction\n",
        "      {\"role\": \"user\", \"content\": \"I'm so excited to visit the beach this weekend\"}, #example_input\n",
        "      {\"role\": \"assistant\", \"content\": \"好激动，这个周末要去海滩！🏖️☀️🌊👙🐚\"}, #example_output\n",
        "      {\"role\": \"user\", \"content\": \"Let's grab a coffee and talk about the project.\"},\n",
        "      #user input\n",
        "    ]\n",
        ")\n",
        "\n",
        "print(response.choices[0].message.content)"
      ],
      "metadata": {
        "colab": {
          "base_uri": "https://localhost:8080/"
        },
        "id": "ILav4RaG7ZNA",
        "outputId": "1b396323-2ada-4475-e59f-29f04a070cba"
      },
      "execution_count": null,
      "outputs": [
        {
          "output_type": "stream",
          "name": "stdout",
          "text": [
            "一起去喝杯咖啡，讨论一下项目吧！☕️💬🤝\n"
          ]
        }
      ]
    },
    {
      "cell_type": "code",
      "source": [
        "response = client.chat.completions.create(\n",
        "  model=\"gpt-3.5-turbo\",\n",
        "  messages=[\n",
        "      {\"role\": \"system\", \"content\": \"Translate the user's text into mandarin and enhance it with relevant emojis. the number of emojis added should be equivalent to the number of mandarin characters in the output text\"}, #system instruction\n",
        "      {\"role\": \"user\", \"content\": \"I'm so excited to visit the beach this weekend\"}, #example_input\n",
        "      {\"role\": \"assistant\", \"content\": \"好激动，这个周末要去海滩！🏖️🌊👙🐚🏖️🌊👙🐚🏖️🌊👙\"}, #example_output\n",
        "      {\"role\": \"user\", \"content\": \"Let's grab a coffee and talk about the project.\"}, #example_input\n",
        "      {\"role\": \"assistant\", \"content\": \"我们一起喝杯咖啡，谈谈这个项目吧 👥💡📝📊📈📅🏙️🏢🤝👍😊💡😄🎉💡\"},\n",
        "      #user input\n",
        "      {\"role\": \"user\", \"content\": \"I want to buy a tesla\"}\n",
        "    ],\n",
        "  temperature = 0.3\n",
        ")\n",
        "\n",
        "print(response.choices[0].message.content)"
      ],
      "metadata": {
        "colab": {
          "base_uri": "https://localhost:8080/"
        },
        "id": "ane4Z9hk-EcN",
        "outputId": "e678cba1-d322-46af-dc42-630493970539"
      },
      "execution_count": null,
      "outputs": [
        {
          "output_type": "stream",
          "name": "stdout",
          "text": [
            "我想买一辆特斯拉 🚗🔋💰🌿🌍🔌🚗🔋💰🌿🌍🔌🚗🔋💰🌿🌍🔌\n"
          ]
        }
      ]
    },
    {
      "cell_type": "code",
      "source": [
        "response = client.chat.completions.create(\n",
        "  model=\"gpt-4o\",\n",
        "  messages=[\n",
        "      {\"role\": \"system\", \"content\": \"Translate the user's text into mandarin and enhance it with relevant emojis. the number of emojis added should be equivalent to the number of mandarin characters in the output text\"}, #system instruction\n",
        "      {\"role\": \"user\", \"content\": \"I'm so excited to visit the beach this weekend\"}, #example_input\n",
        "      {\"role\": \"assistant\", \"content\": \"好激动，这个周末要去海滩！🏖️🌊👙🐚🏖️🌊👙🐚🏖️🌊👙\"}, #example_output\n",
        "      {\"role\": \"user\", \"content\": \"Let's grab a coffee and talk about the project.\"}, #example_input\n",
        "      {\"role\": \"assistant\", \"content\": \"我们一起喝杯咖啡，谈谈这个项目吧 👥💡📝📊📈📅🏙️🏢🤝👍😊💡😄🎉💡\"},\n",
        "      #user input\n",
        "      {\"role\": \"user\", \"content\": \"I want to buy a tesla\"},\n",
        "      {\"role\": \"assistant\", \"content\" : \"我想买一辆特斯拉 🚗⚡💰🚗⚡💰🚗⚡\"},\n",
        "      {\"role\": \"user\", \"content\": \"I am rich\"},\n",
        "    ],\n",
        "  temperature = 0.3\n",
        ")\n",
        "\n",
        "print(response.choices[0].message.content)"
      ],
      "metadata": {
        "colab": {
          "base_uri": "https://localhost:8080/"
        },
        "id": "Q8HykdCgAhZN",
        "outputId": "d70f055c-dfea-46bf-f446-7635337da1de"
      },
      "execution_count": null,
      "outputs": [
        {
          "output_type": "stream",
          "name": "stdout",
          "text": [
            "我很有钱 💰💎💰💎💰💎💰💎\n"
          ]
        }
      ]
    },
    {
      "cell_type": "markdown",
      "source": [
        "# 4.0 Activity\n",
        "- solve the problem above\n",
        "- or show us one example of your execution"
      ],
      "metadata": {
        "id": "NwTvo4shPyJG"
      }
    },
    {
      "cell_type": "code",
      "source": [],
      "metadata": {
        "id": "2M232ONkP6ap"
      },
      "execution_count": null,
      "outputs": []
    }
  ]
}