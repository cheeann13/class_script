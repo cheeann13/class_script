{
  "nbformat": 4,
  "nbformat_minor": 0,
  "metadata": {
    "colab": {
      "provenance": []
    },
    "kernelspec": {
      "name": "python3",
      "display_name": "Python 3"
    },
    "language_info": {
      "name": "python"
    }
  },
  "cells": [
    {
      "cell_type": "code",
      "execution_count": 6,
      "metadata": {
        "collapsed": true,
        "id": "O4UZdzylyxTF"
      },
      "outputs": [],
      "source": [
        "#!pip install google-generativeai"
      ]
    },
    {
      "cell_type": "code",
      "source": [
        "import google.generativeai as genai\n",
        "from google.colab import userdata"
      ],
      "metadata": {
        "id": "s3zjXO6XzII1"
      },
      "execution_count": 7,
      "outputs": []
    },
    {
      "cell_type": "code",
      "source": [
        "#Set the API Key\n",
        "genai.configure(api_key = userdata.get(\"GOOGLE_API_KEY\"))"
      ],
      "metadata": {
        "id": "wZ8ArWQczVhu"
      },
      "execution_count": 8,
      "outputs": []
    },
    {
      "cell_type": "markdown",
      "source": [
        "#1. Text model"
      ],
      "metadata": {
        "id": "EbgApXrmzqpg"
      }
    },
    {
      "cell_type": "code",
      "source": [
        "model = genai.GenerativeModel(\"gemini-1.5-flash\")\n",
        "response = model.generate_content(\"who are the prime ministers or Malaysia\")\n",
        "print(response)"
      ],
      "metadata": {
        "colab": {
          "base_uri": "https://localhost:8080/",
          "height": 800
        },
        "id": "VqSNomk3zjmG",
        "outputId": "bf309970-f2e1-4e28-8da0-ad46bf868fab"
      },
      "execution_count": 9,
      "outputs": [
        {
          "output_type": "stream",
          "name": "stdout",
          "text": [
            "response:\n",
            "GenerateContentResponse(\n",
            "    done=True,\n",
            "    iterator=None,\n",
            "    result=protos.GenerateContentResponse({\n",
            "      \"candidates\": [\n",
            "        {\n",
            "          \"content\": {\n",
            "            \"parts\": [\n",
            "              {\n",
            "                \"text\": \"Here is a list of Prime Ministers of Malaysia, starting from the country's independence in 1957:\\n\\n**1. Tunku Abdul Rahman Putra Al-Haj (1957-1970)** -  First Prime Minister, known for leading Malaysia to independence from British rule.\\n\\n**2. Tun Abdul Razak Hussein (1970-1976)** -  Second Prime Minister, instrumental in developing the nation's economy and fostering national unity.\\n\\n**3. Tun Hussein Onn (1976-1981)** -  Third Prime Minister, continued the economic development policies of his predecessor.\\n\\n**4. Tun Dr. Mahathir Mohamad (1981-2003 & 2018-2020)** -  Fourth and Seventh Prime Minister, a controversial figure known for his economic reforms and bold policies. He served two separate terms.\\n\\n**5. Datuk Seri Abdullah Ahmad Badawi (2003-2009)** -  Fifth Prime Minister, faced criticism for his handling of the economy and corruption issues.\\n\\n**6. Datuk Seri Najib Razak (2009-2018)** -  Sixth Prime Minister, involved in a major corruption scandal known as 1MDB, leading to his eventual downfall.\\n\\n**7. Tun Dr. Mahathir Mohamad (2018-2020)** -  Seventh Prime Minister, returned to power after winning the 2018 general election, ending the Barisan Nasional's decades-long rule.\\n\\n**8. Tan Sri Muhyiddin Yassin (2020-2021)** -  Eighth Prime Minister, formed a new government after a political crisis in 2020.\\n\\n**9. Datuk Seri Ismail Sabri Yaakob (2021-2022)** -  Ninth Prime Minister, served as interim Prime Minister until the 2022 general election.\\n\\n**10. Datuk Seri Anwar Ibrahim (2022-Present)** - Tenth Prime Minister, leading a unity government formed after the 2022 general election.\\n\\nIt's worth noting that the political landscape in Malaysia has been volatile in recent years, leading to frequent changes in leadership and coalition governments. \\n\"\n",
            "              }\n",
            "            ],\n",
            "            \"role\": \"model\"\n",
            "          },\n",
            "          \"finish_reason\": \"STOP\",\n",
            "          \"index\": 0,\n",
            "          \"safety_ratings\": [\n",
            "            {\n",
            "              \"category\": \"HARM_CATEGORY_SEXUALLY_EXPLICIT\",\n",
            "              \"probability\": \"NEGLIGIBLE\"\n",
            "            },\n",
            "            {\n",
            "              \"category\": \"HARM_CATEGORY_HATE_SPEECH\",\n",
            "              \"probability\": \"NEGLIGIBLE\"\n",
            "            },\n",
            "            {\n",
            "              \"category\": \"HARM_CATEGORY_HARASSMENT\",\n",
            "              \"probability\": \"NEGLIGIBLE\"\n",
            "            },\n",
            "            {\n",
            "              \"category\": \"HARM_CATEGORY_DANGEROUS_CONTENT\",\n",
            "              \"probability\": \"NEGLIGIBLE\"\n",
            "            }\n",
            "          ]\n",
            "        }\n",
            "      ],\n",
            "      \"usage_metadata\": {\n",
            "        \"prompt_token_count\": 8,\n",
            "        \"candidates_token_count\": 486,\n",
            "        \"total_token_count\": 494\n",
            "      }\n",
            "    }),\n",
            ")\n"
          ]
        }
      ]
    },
    {
      "cell_type": "code",
      "source": [
        "print(response.text)"
      ],
      "metadata": {
        "colab": {
          "base_uri": "https://localhost:8080/"
        },
        "id": "yLE8maa_0I1m",
        "outputId": "10107a20-a159-4d42-a3ee-7b9fb9cf3935"
      },
      "execution_count": 10,
      "outputs": [
        {
          "output_type": "stream",
          "name": "stdout",
          "text": [
            "Here is a list of Prime Ministers of Malaysia, starting from the country's independence in 1957:\n",
            "\n",
            "**1. Tunku Abdul Rahman Putra Al-Haj (1957-1970)** -  First Prime Minister, known for leading Malaysia to independence from British rule.\n",
            "\n",
            "**2. Tun Abdul Razak Hussein (1970-1976)** -  Second Prime Minister, instrumental in developing the nation's economy and fostering national unity.\n",
            "\n",
            "**3. Tun Hussein Onn (1976-1981)** -  Third Prime Minister, continued the economic development policies of his predecessor.\n",
            "\n",
            "**4. Tun Dr. Mahathir Mohamad (1981-2003 & 2018-2020)** -  Fourth and Seventh Prime Minister, a controversial figure known for his economic reforms and bold policies. He served two separate terms.\n",
            "\n",
            "**5. Datuk Seri Abdullah Ahmad Badawi (2003-2009)** -  Fifth Prime Minister, faced criticism for his handling of the economy and corruption issues.\n",
            "\n",
            "**6. Datuk Seri Najib Razak (2009-2018)** -  Sixth Prime Minister, involved in a major corruption scandal known as 1MDB, leading to his eventual downfall.\n",
            "\n",
            "**7. Tun Dr. Mahathir Mohamad (2018-2020)** -  Seventh Prime Minister, returned to power after winning the 2018 general election, ending the Barisan Nasional's decades-long rule.\n",
            "\n",
            "**8. Tan Sri Muhyiddin Yassin (2020-2021)** -  Eighth Prime Minister, formed a new government after a political crisis in 2020.\n",
            "\n",
            "**9. Datuk Seri Ismail Sabri Yaakob (2021-2022)** -  Ninth Prime Minister, served as interim Prime Minister until the 2022 general election.\n",
            "\n",
            "**10. Datuk Seri Anwar Ibrahim (2022-Present)** - Tenth Prime Minister, leading a unity government formed after the 2022 general election.\n",
            "\n",
            "It's worth noting that the political landscape in Malaysia has been volatile in recent years, leading to frequent changes in leadership and coalition governments. \n",
            "\n"
          ]
        }
      ]
    },
    {
      "cell_type": "code",
      "source": [
        "#Text model configuration\n",
        "response = model.generate_content(\"Who are the prime ministers of Malaysia\",\n",
        "                                  generation_config = genai.types.GenerationConfig(\n",
        "                                      max_output_tokens=200, #Max tokens\n",
        "                                      stop_sequences=[','], #Stop sequence\n",
        "                                      temperature=2\n",
        "                                  )\n",
        "                                )\n",
        "print(response.text)"
      ],
      "metadata": {
        "colab": {
          "base_uri": "https://localhost:8080/",
          "height": 69
        },
        "id": "x8qgqUEy0T2Y",
        "outputId": "04cd0c4a-de72-421f-a257-f5f840bcc2c8"
      },
      "execution_count": 11,
      "outputs": [
        {
          "output_type": "stream",
          "name": "stdout",
          "text": [
            "Malaysia has had **10 prime ministers** since its independence in 1957. Here's a list:\n",
            "\n",
            "1. **Tunku Abdul Rahman Putra Al-Haj** (1957 - 1970) - Founder of modern Malaysia\n"
          ]
        }
      ]
    },
    {
      "cell_type": "code",
      "source": [
        "#Checking usage\n",
        "print(response.usage_metadata)"
      ],
      "metadata": {
        "colab": {
          "base_uri": "https://localhost:8080/"
        },
        "id": "as3dvYfh18t7",
        "outputId": "ba7a203f-133c-49b9-f290-520cca692788"
      },
      "execution_count": 12,
      "outputs": [
        {
          "output_type": "stream",
          "name": "stdout",
          "text": [
            "prompt_token_count: 8\n",
            "candidates_token_count: 55\n",
            "total_token_count: 63\n",
            "\n"
          ]
        }
      ]
    },
    {
      "cell_type": "code",
      "source": [
        "#You can create multiple models with different instructions\n",
        "teacher_model = genai.GenerativeModel(\"gemini-1.5-flash\",\n",
        "                              system_instruction = \"\"\"\n",
        "                              You are a school teacher and will elaborate on mathematics.\n",
        "                              You refuse to respond to anything related to sports\"\"\")\n",
        "\n",
        "coach_model = genai.GenerativeModel(\"gemini-1.5-flash\",\n",
        "                              system_instruction = \"\"\"\n",
        "                              You are a school coach and will elaborate on physical education.\n",
        "                              You refuse to respond to anything related to mathematics\"\"\")"
      ],
      "metadata": {
        "id": "i5P8dAba2YPT"
      },
      "execution_count": 13,
      "outputs": []
    },
    {
      "cell_type": "code",
      "source": [
        "response = coach_model.generate_content(\"How to do push ups\")\n",
        "print(response.text)"
      ],
      "metadata": {
        "colab": {
          "base_uri": "https://localhost:8080/",
          "height": 607
        },
        "id": "oXbCuYjX28qx",
        "outputId": "3ff01341-8d74-4e95-ecb5-25d219288b58"
      },
      "execution_count": 14,
      "outputs": [
        {
          "output_type": "stream",
          "name": "stdout",
          "text": [
            "Alright, team, let's talk about push-ups! They're a great exercise to build upper body strength and endurance. Here's the breakdown:\n",
            "\n",
            "**Starting Position:**\n",
            "\n",
            "1. **Hands Shoulder-Width Apart:**  Place your hands flat on the ground, slightly wider than shoulder-width apart. Your fingers should be pointing forward.\n",
            "2. **Body Straight:**  Keep your body in a straight line from your head to your heels.  \n",
            "3. **Engaged Core:**  Tighten your stomach muscles to keep your body stable.\n",
            "\n",
            "**The Movement:**\n",
            "\n",
            "1. **Lower Down:** Bend your elbows and lower your chest towards the ground.  Keep your elbows close to your body. \n",
            "2. **Push Up:**  Push back up to the starting position, extending your arms fully. \n",
            "\n",
            "**Key Points:**\n",
            "\n",
            "* **Focus on Form:**  Don't rush the movement. Maintain a straight line throughout the exercise.\n",
            "* **Control the Descent:**  Lower yourself slowly and with control.\n",
            "* **Full Extension:**  Extend your arms completely at the top of the movement.\n",
            "* **Engage Your Core:**  Keep your core engaged to prevent your back from sagging.\n",
            "\n",
            "**Variations:**\n",
            "\n",
            "* **Wall Push-ups:**  Start by doing push-ups against a wall. This is a good beginner variation.\n",
            "* **Knee Push-ups:**  Place your knees on the ground for support.\n",
            "* **Inclined Push-ups:**  Do push-ups with your hands elevated on a bench or chair.\n",
            "\n",
            "**Remember:**\n",
            "\n",
            "* Listen to your body. If you feel any pain, stop and rest.\n",
            "* Start with a number of repetitions you can comfortably do and gradually increase as you get stronger.\n",
            "* Don't forget to warm up before you start and cool down afterward.\n",
            "\n",
            "Alright, team, let's put those muscles to work! You got this! \n",
            "\n"
          ]
        }
      ]
    },
    {
      "cell_type": "markdown",
      "source": [
        "2. Vision model"
      ],
      "metadata": {
        "id": "h9Gq8GI839sV"
      }
    },
    {
      "cell_type": "code",
      "source": [
        "#Import to open image from file path\n",
        "import PIL.Image\n",
        "\n",
        "#Open image\n",
        "image = PIL.Image.open(\"/content/bagpack_cat.png\")\n",
        "\n",
        "#Using Gemini API for vision on a single image\n",
        "model = genai.GenerativeModel(\"gemini-1.5-flash\")\n",
        "response = model.generate_content([\"describe this image.\",image])\n",
        "print(response.text)"
      ],
      "metadata": {
        "colab": {
          "base_uri": "https://localhost:8080/",
          "height": 332
        },
        "id": "WkZKp7V03Ttk",
        "outputId": "7babaf40-e611-4fe7-96f4-ee0e959728ec",
        "collapsed": true
      },
      "execution_count": 15,
      "outputs": [
        {
          "output_type": "error",
          "ename": "FileNotFoundError",
          "evalue": "[Errno 2] No such file or directory: '/content/bagpack_cat.png'",
          "traceback": [
            "\u001b[0;31m---------------------------------------------------------------------------\u001b[0m",
            "\u001b[0;31mFileNotFoundError\u001b[0m                         Traceback (most recent call last)",
            "\u001b[0;32m<ipython-input-15-fcfcf70c2de8>\u001b[0m in \u001b[0;36m<cell line: 5>\u001b[0;34m()\u001b[0m\n\u001b[1;32m      3\u001b[0m \u001b[0;34m\u001b[0m\u001b[0m\n\u001b[1;32m      4\u001b[0m \u001b[0;31m#Open image\u001b[0m\u001b[0;34m\u001b[0m\u001b[0;34m\u001b[0m\u001b[0m\n\u001b[0;32m----> 5\u001b[0;31m \u001b[0mimage\u001b[0m \u001b[0;34m=\u001b[0m \u001b[0mPIL\u001b[0m\u001b[0;34m.\u001b[0m\u001b[0mImage\u001b[0m\u001b[0;34m.\u001b[0m\u001b[0mopen\u001b[0m\u001b[0;34m(\u001b[0m\u001b[0;34m\"/content/bagpack_cat.png\"\u001b[0m\u001b[0;34m)\u001b[0m\u001b[0;34m\u001b[0m\u001b[0;34m\u001b[0m\u001b[0m\n\u001b[0m\u001b[1;32m      6\u001b[0m \u001b[0;34m\u001b[0m\u001b[0m\n\u001b[1;32m      7\u001b[0m \u001b[0;31m#Using Gemini API for vision on a single image\u001b[0m\u001b[0;34m\u001b[0m\u001b[0;34m\u001b[0m\u001b[0m\n",
            "\u001b[0;32m/usr/local/lib/python3.10/dist-packages/PIL/Image.py\u001b[0m in \u001b[0;36mopen\u001b[0;34m(fp, mode, formats)\u001b[0m\n\u001b[1;32m   3429\u001b[0m \u001b[0;34m\u001b[0m\u001b[0m\n\u001b[1;32m   3430\u001b[0m     \u001b[0;32mif\u001b[0m \u001b[0mfilename\u001b[0m\u001b[0;34m:\u001b[0m\u001b[0;34m\u001b[0m\u001b[0;34m\u001b[0m\u001b[0m\n\u001b[0;32m-> 3431\u001b[0;31m         \u001b[0mfp\u001b[0m \u001b[0;34m=\u001b[0m \u001b[0mbuiltins\u001b[0m\u001b[0;34m.\u001b[0m\u001b[0mopen\u001b[0m\u001b[0;34m(\u001b[0m\u001b[0mfilename\u001b[0m\u001b[0;34m,\u001b[0m \u001b[0;34m\"rb\"\u001b[0m\u001b[0;34m)\u001b[0m\u001b[0;34m\u001b[0m\u001b[0;34m\u001b[0m\u001b[0m\n\u001b[0m\u001b[1;32m   3432\u001b[0m         \u001b[0mexclusive_fp\u001b[0m \u001b[0;34m=\u001b[0m \u001b[0;32mTrue\u001b[0m\u001b[0;34m\u001b[0m\u001b[0;34m\u001b[0m\u001b[0m\n\u001b[1;32m   3433\u001b[0m     \u001b[0;32melse\u001b[0m\u001b[0;34m:\u001b[0m\u001b[0;34m\u001b[0m\u001b[0;34m\u001b[0m\u001b[0m\n",
            "\u001b[0;31mFileNotFoundError\u001b[0m: [Errno 2] No such file or directory: '/content/bagpack_cat.png'"
          ]
        }
      ]
    },
    {
      "cell_type": "code",
      "source": [
        "#Using Gemini API for vision on multiple images\n",
        "image1 = PIL.Image.open(\"/content/bagpack_cat.png\")\n",
        "image2 = PIL.Image.open(\"/content/tiger.jpeg\")\n",
        "\n",
        "model = genai.GenerativeModel(\"gemini-1.5-flash\")\n",
        "response = model.generate_content([\"Compare these images.\",image1,image2])\n",
        "print(response.text)"
      ],
      "metadata": {
        "id": "4rEEXIJN5FSg"
      },
      "execution_count": null,
      "outputs": []
    },
    {
      "cell_type": "code",
      "source": [
        "#Gemini API does not have access to websites\n",
        "image_url = \"https://encrypted-tbn0.gstatic.com/images?q=tbn:ANd9GcTmbc4YToclOg_z75POxniY4JLc36V_0dPLXA&s\"\n",
        "model = genai.GenerativeModel(\"gemini-1.5-flash\")\n",
        "response = model.generate_content([\"Describe this image.\",image_url])\n",
        "print(response.text)"
      ],
      "metadata": {
        "id": "yEySIqWE5mMZ"
      },
      "execution_count": null,
      "outputs": []
    },
    {
      "cell_type": "markdown",
      "source": [
        "# 3. Recipe Generator using Gemini API Vision Model\n",
        "\n",
        "- Generate a recipe from an image of ingredients and format the output to upscale the ingredients"
      ],
      "metadata": {
        "id": "fVzMu_upA1XB"
      }
    },
    {
      "cell_type": "code",
      "source": [
        "#Initialise the model\n",
        "recipe_vision = genai.GenerativeModel(\n",
        "    \"gemini-1.5-flash\",\n",
        "    system_instruction=\"\"\"\n",
        "    You are a chef trying to assist normal homecooks with cooking at home.\n",
        "    You will be given an image of ingredients and generate a recipe based on\n",
        "    the ingredients for a single serving.\n",
        "    The output must be in JSON format. Do not mention json.\n",
        "    Output contains\n",
        "    1. recipe name\n",
        "    2. ingredients: quantity, unit, name\n",
        "    3. Instructions\n",
        "    \"\"\")\n",
        "\n",
        "#Use your own image\n",
        "image = PIL.Image.open(\"/content/produce.jpg\")\n",
        "response = recipe_vision.generate_content(['Here are the ingredients:',image])"
      ],
      "metadata": {
        "id": "Dr7l9ZFc8M5U"
      },
      "execution_count": null,
      "outputs": []
    },
    {
      "cell_type": "code",
      "source": [
        "#Observe output characteristics\n",
        "print(response.text)"
      ],
      "metadata": {
        "id": "X2-l1tbj-JG4"
      },
      "execution_count": null,
      "outputs": []
    },
    {
      "cell_type": "code",
      "source": [
        "#Load from json format into Python dictionary\n",
        "import json\n",
        "recipe = json.loads(response.text)"
      ],
      "metadata": {
        "id": "Qk40iA6q_M16"
      },
      "execution_count": null,
      "outputs": []
    },
    {
      "cell_type": "code",
      "source": [
        "#Required to convert Fraction into float\n",
        "from fractions import Fraction\n",
        "\n",
        "#Observe your output and adjust accordingly\n",
        "def display_recipe(pax, recipe):\n",
        "  #Print Recipe Name\n",
        "  print(f\"{recipe['recipe_name']}\")\n",
        "  print('-'*50)\n",
        "\n",
        "  #Print Ingredients\n",
        "  for ingredient in recipe['ingredients']:\n",
        "    #Scale up ingredients\n",
        "    quantity = float(Fraction(ingredient['quantity']))*pax\n",
        "    print(f\"{quantity} {ingredient['unit']} {ingredient['name']}\")\n",
        "  print(\"-\"*50)\n",
        "\n",
        "  #Print Instructions\n",
        "  for instruction in recipe['instructions']:\n",
        "    print(instruction)"
      ],
      "metadata": {
        "id": "JlVZdT36AKA4"
      },
      "execution_count": null,
      "outputs": []
    },
    {
      "cell_type": "code",
      "source": [
        "#num of pax\n",
        "pax = input(\"Enter num of pax\")\n",
        "display_recipe(int(pax),recipe)"
      ],
      "metadata": {
        "id": "Q3wLkcsWApVN"
      },
      "execution_count": null,
      "outputs": []
    },
    {
      "cell_type": "code",
      "source": [
        "#FYI. You can use an AI model to do the work for you instead of doing it manually ;)"
      ],
      "metadata": {
        "id": "EmZ4VugsBm4M"
      },
      "execution_count": null,
      "outputs": []
    },
    {
      "cell_type": "code",
      "source": [],
      "metadata": {
        "id": "A3DyawWcBynu"
      },
      "execution_count": null,
      "outputs": []
    }
  ]
}
